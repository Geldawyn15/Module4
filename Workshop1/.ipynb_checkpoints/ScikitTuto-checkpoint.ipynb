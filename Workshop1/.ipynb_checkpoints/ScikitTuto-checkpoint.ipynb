{
 "cells": [
  {
   "cell_type": "code",
   "execution_count": 21,
   "id": "a8d54986-06b8-43ff-9baf-cb3a0377a724",
   "metadata": {
    "scrolled": true
   },
   "outputs": [
    {
     "data": {
      "text/html": [
       "<div>\n",
       "<style scoped>\n",
       "    .dataframe tbody tr th:only-of-type {\n",
       "        vertical-align: middle;\n",
       "    }\n",
       "\n",
       "    .dataframe tbody tr th {\n",
       "        vertical-align: top;\n",
       "    }\n",
       "\n",
       "    .dataframe thead th {\n",
       "        text-align: right;\n",
       "    }\n",
       "</style>\n",
       "<table border=\"1\" class=\"dataframe\">\n",
       "  <thead>\n",
       "    <tr style=\"text-align: right;\">\n",
       "      <th></th>\n",
       "      <th>Pregnancies</th>\n",
       "      <th>Glucose</th>\n",
       "      <th>BloodPressure</th>\n",
       "      <th>SkinThickness</th>\n",
       "      <th>Insulin</th>\n",
       "      <th>BMI</th>\n",
       "      <th>DiabetesPedigreeFunction</th>\n",
       "      <th>Age</th>\n",
       "      <th>Outcome</th>\n",
       "    </tr>\n",
       "  </thead>\n",
       "  <tbody>\n",
       "    <tr>\n",
       "      <th>0</th>\n",
       "      <td>6</td>\n",
       "      <td>148</td>\n",
       "      <td>72</td>\n",
       "      <td>35</td>\n",
       "      <td>0</td>\n",
       "      <td>33.6</td>\n",
       "      <td>0.627</td>\n",
       "      <td>50</td>\n",
       "      <td>1</td>\n",
       "    </tr>\n",
       "    <tr>\n",
       "      <th>1</th>\n",
       "      <td>1</td>\n",
       "      <td>85</td>\n",
       "      <td>66</td>\n",
       "      <td>29</td>\n",
       "      <td>0</td>\n",
       "      <td>26.6</td>\n",
       "      <td>0.351</td>\n",
       "      <td>31</td>\n",
       "      <td>0</td>\n",
       "    </tr>\n",
       "    <tr>\n",
       "      <th>2</th>\n",
       "      <td>8</td>\n",
       "      <td>183</td>\n",
       "      <td>64</td>\n",
       "      <td>0</td>\n",
       "      <td>0</td>\n",
       "      <td>23.3</td>\n",
       "      <td>0.672</td>\n",
       "      <td>32</td>\n",
       "      <td>1</td>\n",
       "    </tr>\n",
       "    <tr>\n",
       "      <th>3</th>\n",
       "      <td>1</td>\n",
       "      <td>89</td>\n",
       "      <td>66</td>\n",
       "      <td>23</td>\n",
       "      <td>94</td>\n",
       "      <td>28.1</td>\n",
       "      <td>0.167</td>\n",
       "      <td>21</td>\n",
       "      <td>0</td>\n",
       "    </tr>\n",
       "    <tr>\n",
       "      <th>4</th>\n",
       "      <td>0</td>\n",
       "      <td>137</td>\n",
       "      <td>40</td>\n",
       "      <td>35</td>\n",
       "      <td>168</td>\n",
       "      <td>43.1</td>\n",
       "      <td>2.288</td>\n",
       "      <td>33</td>\n",
       "      <td>1</td>\n",
       "    </tr>\n",
       "  </tbody>\n",
       "</table>\n",
       "</div>"
      ],
      "text/plain": [
       "   Pregnancies  Glucose  BloodPressure  SkinThickness  Insulin   BMI  \\\n",
       "0            6      148             72             35        0  33.6   \n",
       "1            1       85             66             29        0  26.6   \n",
       "2            8      183             64              0        0  23.3   \n",
       "3            1       89             66             23       94  28.1   \n",
       "4            0      137             40             35      168  43.1   \n",
       "\n",
       "   DiabetesPedigreeFunction  Age  Outcome  \n",
       "0                     0.627   50        1  \n",
       "1                     0.351   31        0  \n",
       "2                     0.672   32        1  \n",
       "3                     0.167   21        0  \n",
       "4                     2.288   33        1  "
      ]
     },
     "execution_count": 21,
     "metadata": {},
     "output_type": "execute_result"
    }
   ],
   "source": [
    "import pandas as pd\n",
    "from sklearn.model_selection import train_test_split\n",
    "from sklearn.naive_bayes import GaussianNB\n",
    "from sklearn.metrics import accuracy_score\n",
    "df = pd.read_csv( 'diabetes.csv')\n",
    "df.head()"
   ]
  },
  {
   "cell_type": "code",
   "execution_count": 22,
   "id": "88e9231a-5512-40bb-aede-189cba549a46",
   "metadata": {
    "scrolled": true
   },
   "outputs": [],
   "source": [
    "df = df.drop(['Pregnancies', 'Age', 'SkinThickness', 'Insulin', 'BMI', 'DiabetesPedigreeFunction' ], axis=1)\n"
   ]
  },
  {
   "cell_type": "code",
   "execution_count": 23,
   "id": "836618d1-0ae7-41b7-8cbf-3d6380045671",
   "metadata": {},
   "outputs": [
    {
     "data": {
      "text/html": [
       "<div>\n",
       "<style scoped>\n",
       "    .dataframe tbody tr th:only-of-type {\n",
       "        vertical-align: middle;\n",
       "    }\n",
       "\n",
       "    .dataframe tbody tr th {\n",
       "        vertical-align: top;\n",
       "    }\n",
       "\n",
       "    .dataframe thead th {\n",
       "        text-align: right;\n",
       "    }\n",
       "</style>\n",
       "<table border=\"1\" class=\"dataframe\">\n",
       "  <thead>\n",
       "    <tr style=\"text-align: right;\">\n",
       "      <th></th>\n",
       "      <th>Glucose</th>\n",
       "      <th>BloodPressure</th>\n",
       "      <th>Outcome</th>\n",
       "    </tr>\n",
       "  </thead>\n",
       "  <tbody>\n",
       "    <tr>\n",
       "      <th>0</th>\n",
       "      <td>148</td>\n",
       "      <td>72</td>\n",
       "      <td>1</td>\n",
       "    </tr>\n",
       "    <tr>\n",
       "      <th>1</th>\n",
       "      <td>85</td>\n",
       "      <td>66</td>\n",
       "      <td>0</td>\n",
       "    </tr>\n",
       "    <tr>\n",
       "      <th>2</th>\n",
       "      <td>183</td>\n",
       "      <td>64</td>\n",
       "      <td>1</td>\n",
       "    </tr>\n",
       "    <tr>\n",
       "      <th>3</th>\n",
       "      <td>89</td>\n",
       "      <td>66</td>\n",
       "      <td>0</td>\n",
       "    </tr>\n",
       "    <tr>\n",
       "      <th>4</th>\n",
       "      <td>137</td>\n",
       "      <td>40</td>\n",
       "      <td>1</td>\n",
       "    </tr>\n",
       "  </tbody>\n",
       "</table>\n",
       "</div>"
      ],
      "text/plain": [
       "   Glucose  BloodPressure  Outcome\n",
       "0      148             72        1\n",
       "1       85             66        0\n",
       "2      183             64        1\n",
       "3       89             66        0\n",
       "4      137             40        1"
      ]
     },
     "execution_count": 23,
     "metadata": {},
     "output_type": "execute_result"
    }
   ],
   "source": [
    "df.head()"
   ]
  },
  {
   "cell_type": "code",
   "execution_count": 26,
   "id": "9a6e9c90-221a-4122-9cec-d6972199fc3d",
   "metadata": {},
   "outputs": [
    {
     "name": "stdout",
     "output_type": "stream",
     "text": [
      "[1 0 0 0 0 0 0 0 1 0 0 1 0 0 0 0 0 0 0 0 0 1 0 0 1 0 0 1 0 0 1 0 1 0 1 1 0\n",
      " 1 0 0 1 1 0 1 0 0 1 0 0 1 0 1 0 0 0 0 1 0 1 0 1 0 0 1 0 0 0 1 1 1 1 0 1 0\n",
      " 1 1 0 0 0 1 0 0 0 0 0 0 0 0 0 1 1 0 1 0 0 0 0 0 1 0 0 0 0 0 0 0 1 1 0 0 0\n",
      " 1 0 0 0 1 0 0 0 1 1 1 0 0 1 0 0 0 0 0 0 0 0 0 1 0 0 0 0 0 0 0 0 0 0 0 1 0\n",
      " 1 0 0 0 0 0]\n",
      "74.67532467532467\n"
     ]
    }
   ],
   "source": [
    "a = df['Glucose']\n",
    "b = df['BloodPressure']\n",
    "x = list(zip(a, b))\n",
    "y = df['Outcome']\n",
    "#fractionner dataset (train-test)\n",
    "x_train, x_test, y_train, y_test = train_test_split(x, y, test_size = 0.20)\n",
    "#instanciation\n",
    "model_Gaussian = GaussianNB()\n",
    "#training\n",
    "model_Gaussian.fit(x_train, y_train)\n",
    "#prédiction\n",
    "prediction = model_Gaussian.predict(x_test)\n",
    "print(prediction)\n",
    "#evaluation du modèle\n",
    "precision = accuracy_score(y_test, prediction)*100\n",
    "print(precision)"
   ]
  },
  {
   "cell_type": "code",
   "execution_count": 38,
   "id": "2a51fc3e-90d3-4de6-9dca-51abf5baebda",
   "metadata": {},
   "outputs": [
    {
     "name": "stdout",
     "output_type": "stream",
     "text": [
      "    species     island  culmen_length_mm  culmen_depth_mm  flipper_length_mm  \\\n",
      "0    Adelie  Torgersen              39.1             18.7                181   \n",
      "1    Adelie  Torgersen              39.5             17.4                186   \n",
      "2    Adelie  Torgersen              40.3             18.0                195   \n",
      "3    Adelie  Torgersen              36.7             19.3                193   \n",
      "4    Adelie  Torgersen              39.3             20.6                190   \n",
      "..      ...        ...               ...              ...                ...   \n",
      "336  Gentoo     Biscoe              47.2             13.7                214   \n",
      "337  Gentoo     Biscoe              46.8             14.3                215   \n",
      "338  Gentoo     Biscoe              50.4             15.7                222   \n",
      "339  Gentoo     Biscoe              45.2             14.8                212   \n",
      "340  Gentoo     Biscoe              49.9             16.1                213   \n",
      "\n",
      "     body_mass_g     sex  \n",
      "0           3750    MALE  \n",
      "1           3800  FEMALE  \n",
      "2           3250  FEMALE  \n",
      "3           3450  FEMALE  \n",
      "4           3650    MALE  \n",
      "..           ...     ...  \n",
      "336         4925  FEMALE  \n",
      "337         4850  FEMALE  \n",
      "338         5750    MALE  \n",
      "339         5200  FEMALE  \n",
      "340         5400    MALE  \n",
      "\n",
      "[341 rows x 7 columns]\n"
     ]
    }
   ],
   "source": [
    "import pandas as pd\n",
    "from sklearn.model_selection import train_test_split\n",
    "from sklearn.naive_bayes import GaussianNB\n",
    "from sklearn.metrics import accuracy_score\n",
    "df = pd.read_csv('penguins_size.csv')\n",
    "print(df)"
   ]
  },
  {
   "cell_type": "code",
   "execution_count": 46,
   "id": "c7b8a899-7261-4122-a8f7-854adc58ecc8",
   "metadata": {},
   "outputs": [
    {
     "name": "stdout",
     "output_type": "stream",
     "text": [
      "['MALE' 'FEMALE']\n"
     ]
    }
   ],
   "source": [
    "#Encodage\n",
    "sex =  df.sex.unique()\n",
    "print( sex )"
   ]
  },
  {
   "cell_type": "code",
   "execution_count": 52,
   "id": "1c16ec80-f896-43ec-be69-c7e353097e18",
   "metadata": {},
   "outputs": [
    {
     "name": "stdout",
     "output_type": "stream",
     "text": [
      "['MALE' 'FEMALE' 'MALE' 'MALE' 'FEMALE' 'MALE' 'MALE' 'MALE' 'MALE' 'MALE'\n",
      " 'FEMALE' 'FEMALE' 'FEMALE' 'FEMALE' 'FEMALE' 'FEMALE' 'MALE' 'FEMALE'\n",
      " 'MALE' 'MALE' 'MALE' 'FEMALE' 'FEMALE' 'MALE' 'MALE' 'FEMALE' 'MALE'\n",
      " 'FEMALE' 'FEMALE' 'FEMALE' 'MALE' 'MALE' 'FEMALE' 'MALE' 'FEMALE' 'MALE'\n",
      " 'FEMALE' 'FEMALE' 'FEMALE' 'MALE' 'FEMALE' 'FEMALE' 'FEMALE' 'MALE'\n",
      " 'FEMALE' 'FEMALE' 'FEMALE' 'MALE' 'FEMALE' 'FEMALE' 'FEMALE' 'FEMALE'\n",
      " 'FEMALE' 'FEMALE' 'FEMALE' 'FEMALE' 'FEMALE' 'MALE' 'MALE' 'FEMALE'\n",
      " 'FEMALE' 'FEMALE' 'FEMALE' 'FEMALE' 'MALE' 'MALE' 'FEMALE' 'MALE' 'MALE']\n"
     ]
    }
   ],
   "source": [
    "\n",
    "x = df[['culmen_length_mm', 'body_mass_g', 'flipper_length_mm']]\n",
    "y = df['sex']\n",
    "#fractionner dataset (train-test)\n",
    "x_train, x_test, y_train, y_test = train_test_split(x, y, test_size = 0.20)\n",
    "#instanciation\n",
    "model_Gaussian = GaussianNB()\n",
    "print(x_test)\n",
    "#training\n",
    "model_Gaussian.fit(x_train, y_train)\n",
    "#prédiction\n",
    "prediction = model_Gaussian.predict(x_test)\n",
    "print(prediction)\n",
    "#evaluation du modèle\n",
    "precision = accuracy_score(y_test, prediction)*100\n",
    "#print(precision)"
   ]
  },
  {
   "cell_type": "code",
   "execution_count": null,
   "id": "0dba9215-5002-41db-a096-9e9a2c1896f3",
   "metadata": {},
   "outputs": [],
   "source": []
  }
 ],
 "metadata": {
  "kernelspec": {
   "display_name": "Python 3 (ipykernel)",
   "language": "python",
   "name": "python3"
  },
  "language_info": {
   "codemirror_mode": {
    "name": "ipython",
    "version": 3
   },
   "file_extension": ".py",
   "mimetype": "text/x-python",
   "name": "python",
   "nbconvert_exporter": "python",
   "pygments_lexer": "ipython3",
   "version": "3.11.5"
  }
 },
 "nbformat": 4,
 "nbformat_minor": 5
}
