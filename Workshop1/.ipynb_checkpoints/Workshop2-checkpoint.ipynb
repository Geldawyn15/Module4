{
 "cells": [
  {
   "cell_type": "code",
   "execution_count": 5,
   "id": "b020e054-8969-41f8-bb8c-3026a504dcb8",
   "metadata": {},
   "outputs": [
    {
     "ename": "SyntaxError",
     "evalue": "(unicode error) 'unicodeescape' codec can't decode bytes in position 2-3: truncated \\UXXXXXXXX escape (467541589.py, line 8)",
     "output_type": "error",
     "traceback": [
      "\u001b[1;36m  Cell \u001b[1;32mIn[5], line 8\u001b[1;36m\u001b[0m\n\u001b[1;33m    PATH_TO_HAM_DIR = \"C:\\Users\\Utilisateur\\Documents\\Module3\\Workshop1\\emails\\ham\"\u001b[0m\n\u001b[1;37m                                                                                   ^\u001b[0m\n\u001b[1;31mSyntaxError\u001b[0m\u001b[1;31m:\u001b[0m (unicode error) 'unicodeescape' codec can't decode bytes in position 2-3: truncated \\UXXXXXXXX escape\n"
     ]
    }
   ],
   "source": [
    "import os\n",
    "import io\n",
    "import pandas as pd\n",
    "from sklearn.feature_extraction.text import CountVectorizer\n",
    "from sklearn.naive_bayes import MultinomialNB\n",
    "\n",
    "# quelques variables globales utiles\n",
    "PATH_TO_HAM_DIR = \"C:/Users/Utilisateur/Documents/Module3/Workshop1/emails/ham\"\n",
    "PATH_TO_SPAM_DIR = \"C:/Users/Utilisateur/Documents/Module3/Workshop1/emails/spam\"\n",
    "\n",
    "SPAM_TYPE = \"SPAM\"\n",
    "HAM_TYPE = \"HAM\"\n",
    "\n",
    "#les tableaux X et Y seront de la meme taille et ordonnes\n",
    "X = [] # represente l'input Data (ici les mails)\n",
    "#indique s'il s'agit d'un mail ou non\n",
    "Y = [] #les etiquettes (labels) pour le training set\n",
    "\n",
    "\n",
    "def readFilesFromDirectory(path, classification):\n",
    "    os.chdir(path)\n",
    "    files_name = os.listdir(path)\n",
    "    for current_file in files_name:\n",
    "        message = extract_mail_body(current_file)\n",
    "        X.append(message)\n",
    "        Y.append(classification)\n",
    "       \n",
    "           \n",
    "#fonction de lecture du contenu d'un fichier texte donne.\n",
    "#ici, on fait un peu de traitement pour ne prendre en compte que le \"corps du mail\".\n",
    "# On ignorer les en-tetes des mails\n",
    "def extract_mail_body(file_name_str):\n",
    "    inBody = False\n",
    "    lines = []\n",
    "    file_descriptor = io.open(file_name_str,'r', encoding='latin1')\n",
    "    for line in file_descriptor:\n",
    "        if inBody:\n",
    "            lines.append(line)\n",
    "        elif line == '\\n':\n",
    "            inBody = True\n",
    "        message = '\\n'.join(lines)\n",
    "    file_descriptor.close()\n",
    "    return message\n",
    "\n",
    "#appel de la fonction de chargement des mails (charger les mail normaux ensuite les SPAM)\n",
    "readFilesFromDirectory(PATH_TO_HAM_DIR, HAM_TYPE)\n",
    "readFilesFromDirectory(PATH_TO_SPAM_DIR, SPAM_TYPE)\n",
    "\n",
    "training_set = pd.DataFrame({'X': X, 'Y': Y})\n",
    "\n",
    "\n",
    "#------------------\n",
    "\n",
    "\n",
    "vectorizer = CountVectorizer()\n",
    "counts = vectorizer.fit_transform(training_set['X'].values)\n",
    "\n",
    "classifier = MultinomialNB()\n",
    "targets = training_set['Y'].values\n",
    "classifier.fit(counts, targets)\n",
    "\n",
    "\n",
    "examples = ['Free Viagra now!!!', \"Hi Bob, how about a game of golf tomorrow?\"]\n",
    "example_counts = vectorizer.transform(examples)\n",
    "predictions = classifier.predict(example_counts)\n",
    "print(predictions)"
   ]
  },
  {
   "cell_type": "code",
   "execution_count": null,
   "id": "dc9aa498-646d-40d9-91cf-62b744281b3f",
   "metadata": {},
   "outputs": [],
   "source": []
  }
 ],
 "metadata": {
  "kernelspec": {
   "display_name": "Python 3 (ipykernel)",
   "language": "python",
   "name": "python3"
  },
  "language_info": {
   "codemirror_mode": {
    "name": "ipython",
    "version": 3
   },
   "file_extension": ".py",
   "mimetype": "text/x-python",
   "name": "python",
   "nbconvert_exporter": "python",
   "pygments_lexer": "ipython3",
   "version": "3.11.5"
  }
 },
 "nbformat": 4,
 "nbformat_minor": 5
}
