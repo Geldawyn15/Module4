{
 "cells": [
  {
   "cell_type": "code",
   "execution_count": 11,
   "id": "ec4147f2-261b-452b-9574-7682555d5c79",
   "metadata": {
    "scrolled": true
   },
   "outputs": [],
   "source": [
    "import pandas\n",
    "\n",
    "#lire le fichier csv\n",
    "data = pandas.read_csv(\"jouer.csv\")\n",
    "\n",
    "# séparer les données en: entrées et sorties\n",
    "X = data.iloc[:,:-1] #les caractéristiques\n",
    "y = data.iloc[:,-1]  #les résulats (classes)"
   ]
  },
  {
   "cell_type": "code",
   "execution_count": 13,
   "id": "a4907ce2-48b8-4628-aa76-d9db54bef036",
   "metadata": {},
   "outputs": [
    {
     "name": "stdout",
     "output_type": "stream",
     "text": [
      "   temps_ensoleile  temps_nuageux  temps_pluvieux  temperature_chaude  \\\n",
      "0             True          False           False                True   \n",
      "1             True          False           False                True   \n",
      "2            False           True           False                True   \n",
      "3            False          False            True               False   \n",
      "4            False          False            True               False   \n",
      "\n",
      "   temperature_douce  temperature_fraîche  humidite_haute  humidite_normale  \\\n",
      "0              False                False            True             False   \n",
      "1              False                False            True             False   \n",
      "2              False                False            True             False   \n",
      "3               True                False            True             False   \n",
      "4              False                 True           False              True   \n",
      "\n",
      "   vent_non  vent_oui  \n",
      "0      True     False  \n",
      "1     False      True  \n",
      "2      True     False  \n",
      "3      True     False  \n",
      "4      True     False  \n"
     ]
    }
   ],
   "source": [
    "X_dum = pandas.get_dummies(X)\n",
    "\n",
    "# imprimer les premières lignes des données\n",
    "print(X_dum.head())"
   ]
  },
  {
   "cell_type": "code",
   "execution_count": 14,
   "id": "bb978583-a4b4-4728-be8e-b7ae246e21ad",
   "metadata": {},
   "outputs": [
    {
     "data": {
      "text/html": [
       "<style>#sk-container-id-1 {color: black;background-color: white;}#sk-container-id-1 pre{padding: 0;}#sk-container-id-1 div.sk-toggleable {background-color: white;}#sk-container-id-1 label.sk-toggleable__label {cursor: pointer;display: block;width: 100%;margin-bottom: 0;padding: 0.3em;box-sizing: border-box;text-align: center;}#sk-container-id-1 label.sk-toggleable__label-arrow:before {content: \"▸\";float: left;margin-right: 0.25em;color: #696969;}#sk-container-id-1 label.sk-toggleable__label-arrow:hover:before {color: black;}#sk-container-id-1 div.sk-estimator:hover label.sk-toggleable__label-arrow:before {color: black;}#sk-container-id-1 div.sk-toggleable__content {max-height: 0;max-width: 0;overflow: hidden;text-align: left;background-color: #f0f8ff;}#sk-container-id-1 div.sk-toggleable__content pre {margin: 0.2em;color: black;border-radius: 0.25em;background-color: #f0f8ff;}#sk-container-id-1 input.sk-toggleable__control:checked~div.sk-toggleable__content {max-height: 200px;max-width: 100%;overflow: auto;}#sk-container-id-1 input.sk-toggleable__control:checked~label.sk-toggleable__label-arrow:before {content: \"▾\";}#sk-container-id-1 div.sk-estimator input.sk-toggleable__control:checked~label.sk-toggleable__label {background-color: #d4ebff;}#sk-container-id-1 div.sk-label input.sk-toggleable__control:checked~label.sk-toggleable__label {background-color: #d4ebff;}#sk-container-id-1 input.sk-hidden--visually {border: 0;clip: rect(1px 1px 1px 1px);clip: rect(1px, 1px, 1px, 1px);height: 1px;margin: -1px;overflow: hidden;padding: 0;position: absolute;width: 1px;}#sk-container-id-1 div.sk-estimator {font-family: monospace;background-color: #f0f8ff;border: 1px dotted black;border-radius: 0.25em;box-sizing: border-box;margin-bottom: 0.5em;}#sk-container-id-1 div.sk-estimator:hover {background-color: #d4ebff;}#sk-container-id-1 div.sk-parallel-item::after {content: \"\";width: 100%;border-bottom: 1px solid gray;flex-grow: 1;}#sk-container-id-1 div.sk-label:hover label.sk-toggleable__label {background-color: #d4ebff;}#sk-container-id-1 div.sk-serial::before {content: \"\";position: absolute;border-left: 1px solid gray;box-sizing: border-box;top: 0;bottom: 0;left: 50%;z-index: 0;}#sk-container-id-1 div.sk-serial {display: flex;flex-direction: column;align-items: center;background-color: white;padding-right: 0.2em;padding-left: 0.2em;position: relative;}#sk-container-id-1 div.sk-item {position: relative;z-index: 1;}#sk-container-id-1 div.sk-parallel {display: flex;align-items: stretch;justify-content: center;background-color: white;position: relative;}#sk-container-id-1 div.sk-item::before, #sk-container-id-1 div.sk-parallel-item::before {content: \"\";position: absolute;border-left: 1px solid gray;box-sizing: border-box;top: 0;bottom: 0;left: 50%;z-index: -1;}#sk-container-id-1 div.sk-parallel-item {display: flex;flex-direction: column;z-index: 1;position: relative;background-color: white;}#sk-container-id-1 div.sk-parallel-item:first-child::after {align-self: flex-end;width: 50%;}#sk-container-id-1 div.sk-parallel-item:last-child::after {align-self: flex-start;width: 50%;}#sk-container-id-1 div.sk-parallel-item:only-child::after {width: 0;}#sk-container-id-1 div.sk-dashed-wrapped {border: 1px dashed gray;margin: 0 0.4em 0.5em 0.4em;box-sizing: border-box;padding-bottom: 0.4em;background-color: white;}#sk-container-id-1 div.sk-label label {font-family: monospace;font-weight: bold;display: inline-block;line-height: 1.2em;}#sk-container-id-1 div.sk-label-container {text-align: center;}#sk-container-id-1 div.sk-container {/* jupyter's `normalize.less` sets `[hidden] { display: none; }` but bootstrap.min.css set `[hidden] { display: none !important; }` so we also need the `!important` here to be able to override the default hidden behavior on the sphinx rendered scikit-learn.org. See: https://github.com/scikit-learn/scikit-learn/issues/21755 */display: inline-block !important;position: relative;}#sk-container-id-1 div.sk-text-repr-fallback {display: none;}</style><div id=\"sk-container-id-1\" class=\"sk-top-container\"><div class=\"sk-text-repr-fallback\"><pre>DecisionTreeClassifier()</pre><b>In a Jupyter environment, please rerun this cell to show the HTML representation or trust the notebook. <br />On GitHub, the HTML representation is unable to render, please try loading this page with nbviewer.org.</b></div><div class=\"sk-container\" hidden><div class=\"sk-item\"><div class=\"sk-estimator sk-toggleable\"><input class=\"sk-toggleable__control sk-hidden--visually\" id=\"sk-estimator-id-1\" type=\"checkbox\" checked><label for=\"sk-estimator-id-1\" class=\"sk-toggleable__label sk-toggleable__label-arrow\">DecisionTreeClassifier</label><div class=\"sk-toggleable__content\"><pre>DecisionTreeClassifier()</pre></div></div></div></div></div>"
      ],
      "text/plain": [
       "DecisionTreeClassifier()"
      ]
     },
     "execution_count": 14,
     "metadata": {},
     "output_type": "execute_result"
    }
   ],
   "source": [
    "from sklearn.tree import DecisionTreeClassifier\n",
    "\n",
    "# créer un estimateur\n",
    "estimator = DecisionTreeClassifier()\n",
    "# entrainer l'estimateur\n",
    "estimator.fit(X_dum, y)"
   ]
  },
  {
   "cell_type": "code",
   "execution_count": 15,
   "id": "154abfe6-8d51-4982-b2e4-3b9c6f06c052",
   "metadata": {},
   "outputs": [],
   "source": [
    "from sklearn.tree import export_graphviz\n",
    "\n",
    "# expoter l'arbre sous format graphviz\n",
    "export_graphviz(estimator,\n",
    "    out_file=\"arbre_cart0.dot\",\n",
    "    feature_names = X_dum.columns,\n",
    "    class_names=estimator.classes_)"
   ]
  },
  {
   "cell_type": "code",
   "execution_count": 16,
   "id": "6b843468-300d-4769-a856-35048f30724c",
   "metadata": {},
   "outputs": [
    {
     "ename": "SyntaxError",
     "evalue": "invalid syntax (2070155828.py, line 1)",
     "output_type": "error",
     "traceback": [
      "\u001b[1;36m  Cell \u001b[1;32mIn[16], line 1\u001b[1;36m\u001b[0m\n\u001b[1;33m    dot -Tpng arbre_cart0.dot -o arbre_cart0.png\u001b[0m\n\u001b[1;37m              ^\u001b[0m\n\u001b[1;31mSyntaxError\u001b[0m\u001b[1;31m:\u001b[0m invalid syntax\n"
     ]
    }
   ],
   "source": [
    "dot -Tpng arbre_cart0.dot -o arbre_cart0.png"
   ]
  },
  {
   "cell_type": "code",
   "execution_count": 18,
   "id": "efe23669-a959-482e-82af-7cc3c2dd01d3",
   "metadata": {},
   "outputs": [
    {
     "ename": "AttributeError",
     "evalue": "'DictVectorizer' object has no attribute 'get_feature_names'",
     "output_type": "error",
     "traceback": [
      "\u001b[1;31m---------------------------------------------------------------------------\u001b[0m",
      "\u001b[1;31mAttributeError\u001b[0m                            Traceback (most recent call last)",
      "Cell \u001b[1;32mIn[18], line 10\u001b[0m\n\u001b[0;32m      8\u001b[0m new_list_dicts \u001b[38;5;241m=\u001b[39m vec\u001b[38;5;241m.\u001b[39mfit_transform(list_dicts)\u001b[38;5;241m.\u001b[39mtoarray()\n\u001b[0;32m      9\u001b[0m \u001b[38;5;66;03m# créer un nouveau DataFrame\u001b[39;00m\n\u001b[1;32m---> 10\u001b[0m X_vec \u001b[38;5;241m=\u001b[39m pandas\u001b[38;5;241m.\u001b[39mDataFrame(new_list_dicts, columns\u001b[38;5;241m=\u001b[39mvec\u001b[38;5;241m.\u001b[39mget_feature_names())\n\u001b[0;32m     12\u001b[0m \u001b[38;5;66;03m# imprimer les premières lignes des données\u001b[39;00m\n\u001b[0;32m     13\u001b[0m \u001b[38;5;28mprint\u001b[39m(X_vec\u001b[38;5;241m.\u001b[39mhead())\n",
      "\u001b[1;31mAttributeError\u001b[0m: 'DictVectorizer' object has no attribute 'get_feature_names'"
     ]
    }
   ],
   "source": [
    "from sklearn.feature_extraction import DictVectorizer\n",
    "\n",
    "# Transformer X à une liste de dicts\n",
    "list_dicts = X.T.to_dict().values()\n",
    "# créer une instance du transformateur\n",
    "vec = DictVectorizer()\n",
    "# transformer\n",
    "new_list_dicts = vec.fit_transform(list_dicts).toarray()\n",
    "# créer un nouveau DataFrame\n",
    "X_vec = pandas.DataFrame(new_list_dicts, columns=vec.get_feature_names())\n",
    "\n",
    "# imprimer les premières lignes des données\n",
    "print(X_vec.head())"
   ]
  },
  {
   "cell_type": "code",
   "execution_count": null,
   "id": "2a044622-f9bd-4acd-b086-283787f947ea",
   "metadata": {},
   "outputs": [],
   "source": []
  }
 ],
 "metadata": {
  "kernelspec": {
   "display_name": "Python 3 (ipykernel)",
   "language": "python",
   "name": "python3"
  },
  "language_info": {
   "codemirror_mode": {
    "name": "ipython",
    "version": 3
   },
   "file_extension": ".py",
   "mimetype": "text/x-python",
   "name": "python",
   "nbconvert_exporter": "python",
   "pygments_lexer": "ipython3",
   "version": "3.11.5"
  }
 },
 "nbformat": 4,
 "nbformat_minor": 5
}
